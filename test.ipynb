{
 "cells": [
  {
   "cell_type": "markdown",
   "metadata": {},
   "source": [
    "### Basic class structure in python"
   ]
  },
  {
   "cell_type": "code",
   "execution_count": 13,
   "metadata": {},
   "outputs": [
    {
     "name": "stdout",
     "output_type": "stream",
     "text": [
      "<__main__.Car object at 0x109297640>\n"
     ]
    }
   ],
   "source": [
    "class Car:\n",
    "    def __init__(self,name,wheels,seat): #__init__(att) is the constructor\n",
    "                                         #self here works like this and mandetory to write it\n",
    "        self.name = name\n",
    "        self.wheels = wheels\n",
    "        self.seat = seat\n",
    "    \n",
    "    \n",
    "c1 = Car(\"honda\",4,4) \n",
    "print(c1)  #c1 now holds the memory loc of the class\n",
    "\n",
    "print(c1.name)\n"
   ]
  },
  {
   "cell_type": "markdown",
   "metadata": {},
   "source": [
    " we can add more attributes randomly to an object"
   ]
  },
  {
   "cell_type": "code",
   "execution_count": 14,
   "metadata": {},
   "outputs": [
    {
     "name": "stdout",
     "output_type": "stream",
     "text": [
      "2\n"
     ]
    }
   ],
   "source": [
    "c1.headlight = 2\n",
    "print(c1.headlight)  #this the addtional charecter pnly available to c1"
   ]
  },
  {
   "cell_type": "markdown",
   "metadata": {},
   "source": [
    "### Member Methods"
   ]
  },
  {
   "cell_type": "code",
   "execution_count": 16,
   "metadata": {},
   "outputs": [
    {
     "name": "stdout",
     "output_type": "stream",
     "text": [
      "the name of the car is honda and it have 4 wheels\n"
     ]
    }
   ],
   "source": [
    "class Car:\n",
    "    def __init__(self,name,wheels,seat):\n",
    "        self.name = name\n",
    "        self.wheels = wheels\n",
    "        self.seat = seat\n",
    "    def radomMethod(self):  # ig whenever we call this method the instance calling the function is passed here\n",
    "        print(f\"the name of the car is {self.name} and it have {self.wheels} wheels\")\n",
    "\n",
    "c1 = Car(\"honda\",4,5)\n",
    "c1.radomMethod() \n"
   ]
  },
  {
   "cell_type": "markdown",
   "metadata": {},
   "source": [
    "## Basic python philosophies LOL"
   ]
  },
  {
   "cell_type": "markdown",
   "metadata": {},
   "source": [
    "1. Everything in Python is accessible if you try hard enough, reflecting Python’s philosophy of “we are all consenting adults.”\n",
    "\n",
    "2. If someone uses that syntax and accesses the variable..sort it out with the programmer"
   ]
  },
  {
   "cell_type": "code",
   "execution_count": null,
   "metadata": {},
   "outputs": [],
   "source": []
  }
 ],
 "metadata": {
  "kernelspec": {
   "display_name": "venv",
   "language": "python",
   "name": "python3"
  },
  "language_info": {
   "codemirror_mode": {
    "name": "ipython",
    "version": 3
   },
   "file_extension": ".py",
   "mimetype": "text/x-python",
   "name": "python",
   "nbconvert_exporter": "python",
   "pygments_lexer": "ipython3",
   "version": "3.10.16"
  }
 },
 "nbformat": 4,
 "nbformat_minor": 2
}
