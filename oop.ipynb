{
 "cells": [
  {
   "cell_type": "markdown",
   "metadata": {},
   "source": [
    "### Basic class structure in python"
   ]
  },
  {
   "cell_type": "code",
   "execution_count": 75,
   "metadata": {},
   "outputs": [
    {
     "name": "stdout",
     "output_type": "stream",
     "text": [
      "<__main__.Car object at 0x103d6ba60>\n",
      "honda\n"
     ]
    }
   ],
   "source": [
    "class Car:\n",
    "    def __init__(self,name,wheels,seat): #__init__(att) is the constructor\n",
    "                                         #self here works like this and mandetory to write it\n",
    "        self.name = name\n",
    "        self.wheels = wheels\n",
    "        self.seat = seat\n",
    "    \n",
    "c1 = Car(\"honda\",4,4) \n",
    "print(c1)  #c1 now holds the memory loc of the class\n",
    "\n",
    "print(c1.name)\n"
   ]
  },
  {
   "cell_type": "markdown",
   "metadata": {},
   "source": [
    " we can add more attributes randomly to an object"
   ]
  },
  {
   "cell_type": "code",
   "execution_count": 76,
   "metadata": {},
   "outputs": [
    {
     "name": "stdout",
     "output_type": "stream",
     "text": [
      "2\n"
     ]
    }
   ],
   "source": [
    "c1.headlight = 2\n",
    "print(c1.headlight)  #this the addtional charecter pnly available to c1"
   ]
  },
  {
   "cell_type": "markdown",
   "metadata": {},
   "source": [
    "### Member Methods"
   ]
  },
  {
   "cell_type": "code",
   "execution_count": 77,
   "metadata": {},
   "outputs": [
    {
     "name": "stdout",
     "output_type": "stream",
     "text": [
      "the name of the car is honda and it have 4 wheels\n"
     ]
    }
   ],
   "source": [
    "class Car:\n",
    "    def __init__(self,name,wheels,seat):\n",
    "        self.name = name\n",
    "        self.wheels = wheels\n",
    "        self.seat = seat\n",
    "    def radomMethod(self):  # whenever we call this method the instance calling the function is passed here and \n",
    "                            #it is mandetory \n",
    "\n",
    "        print(f\"the name of the car is {self.name} and it have {self.wheels} wheels\")\n",
    "\n",
    "c1 = Car(\"honda\",4,5)\n",
    "c1.radomMethod() \n"
   ]
  },
  {
   "cell_type": "markdown",
   "metadata": {},
   "source": [
    "## Basic python philosophies LOL"
   ]
  },
  {
   "cell_type": "markdown",
   "metadata": {},
   "source": [
    "1. Everything in Python is accessible if you try hard enough, reflecting Python’s philosophy of “we are all consenting adults.”\n",
    "\n",
    "2. If someone uses that syntax and accesses the variable..sort it out with the programmer"
   ]
  },
  {
   "cell_type": "markdown",
   "metadata": {},
   "source": [
    "### Inheritance"
   ]
  },
  {
   "cell_type": "markdown",
   "metadata": {},
   "source": [
    "1. Hierarchical"
   ]
  },
  {
   "cell_type": "code",
   "execution_count": 78,
   "metadata": {},
   "outputs": [],
   "source": [
    "class Person:\n",
    "    def __init__(self,name,age,height):\n",
    "        self.name = name\n",
    "        self.age = age\n",
    "        self.height = height\n",
    "    def func(self):\n",
    "        print(f\"{self.name} is a person\")"
   ]
  },
  {
   "cell_type": "code",
   "execution_count": 79,
   "metadata": {},
   "outputs": [],
   "source": [
    "class Employed(Person):     # Employed class inherits Person class\n",
    "    def __init__(self, name, age, height,salary):\n",
    "        super().__init__(name, age, height)   #this calls the parent function constructor\n",
    "        self.salary = salary\n",
    "    def func(self):\n",
    "        print(f\"{self.name} is not bekar and have a monthly income of {self.salary}\")"
   ]
  },
  {
   "cell_type": "code",
   "execution_count": 80,
   "metadata": {},
   "outputs": [],
   "source": [
    "class Unemployed(Person):\n",
    "    def __init__(self, name, age, height):\n",
    "        super().__init__(name, age, height)\n",
    "    def func(self):\n",
    "        print(f\"{self.name} is bekar and earn nothing\")"
   ]
  },
  {
   "cell_type": "code",
   "execution_count": 81,
   "metadata": {},
   "outputs": [
    {
     "name": "stdout",
     "output_type": "stream",
     "text": [
      "Som is a person\n",
      "Satwik is not bekar and have a monthly income of 2000\n",
      "Kutu is bekar and earn nothing\n"
     ]
    }
   ],
   "source": [
    "p1 = Person(\"Som\",21,5.8)\n",
    "p1.func()\n",
    "\n",
    "p2 = Employed(\"Satwik\",20,5.8,2000)\n",
    "p2.func()\n",
    "\n",
    "p3 = Unemployed(\"Kutu\",19,5.8)\n",
    "p3.func()"
   ]
  },
  {
   "cell_type": "markdown",
   "metadata": {},
   "source": [
    "2. Multiple"
   ]
  },
  {
   "cell_type": "code",
   "execution_count": 82,
   "metadata": {},
   "outputs": [
    {
     "name": "stdout",
     "output_type": "stream",
     "text": [
      "inside A\n",
      "inside B\n",
      "inside A\n"
     ]
    }
   ],
   "source": [
    "class A:\n",
    "    def __init__(self):\n",
    "        pass\n",
    "    def func(self):\n",
    "        print(\"inside A\")\n",
    "class B:\n",
    "    def __init__(self):\n",
    "        pass\n",
    "    def func(self):\n",
    "        print(\"inside B\")\n",
    "\n",
    "class C(A,B):\n",
    "    def __init__(self):\n",
    "        pass\n",
    "\n",
    "ob1 = A()\n",
    "ob2 = B()\n",
    "ob1.func()\n",
    "ob2.func()\n",
    "ob3 = C()\n",
    "ob3.func()\n"
   ]
  },
  {
   "cell_type": "markdown",
   "metadata": {},
   "source": [
    "In the above code generally there sould be an ambiguity due to inheriting function having same name but in python\n",
    "error due to ambiguity is avoided using C3 Linearization Algorithm\n",
    "\n",
    "1. Python uses the C3 Linearization Algorithm to determine the order in which classes are searched for a method or attribute.\n",
    "\n",
    "2. The MRO is stored in the __mro__ attribute of the class.\n",
    "\n",
    "3. In your code, since C inherits from A and B (in that order), Python will first check A and then B for the func method"
   ]
  },
  {
   "cell_type": "code",
   "execution_count": 83,
   "metadata": {},
   "outputs": [
    {
     "name": "stdout",
     "output_type": "stream",
     "text": [
      "(<class '__main__.C'>, <class '__main__.A'>, <class '__main__.B'>, <class 'object'>)\n"
     ]
    }
   ],
   "source": [
    "print(C.__mro__)  #this print the order"
   ]
  },
  {
   "cell_type": "markdown",
   "metadata": {},
   "source": [
    "### Polymorphism"
   ]
  },
  {
   "cell_type": "code",
   "execution_count": 105,
   "metadata": {},
   "outputs": [
    {
     "name": "stdout",
     "output_type": "stream",
     "text": [
      "Som\n",
      "Satwik\n",
      "Kutu\n"
     ]
    }
   ],
   "source": [
    "def check(Person): \n",
    "    print(Person.name)\n",
    "\n",
    "\"\"\"\n",
    "    here Person is the super class so it can hold the child class and during compilation it is decided the class \n",
    "    that is actually reffered\n",
    "\"\"\"\n",
    "\n",
    "check(p1)\n",
    "check(p2)\n",
    "check(p3)"
   ]
  },
  {
   "cell_type": "markdown",
   "metadata": {},
   "source": [
    "Defining privte variable"
   ]
  },
  {
   "cell_type": "code",
   "execution_count": 106,
   "metadata": {},
   "outputs": [
    {
     "name": "stdout",
     "output_type": "stream",
     "text": [
      "3\n",
      "['_A__var', '__class__', '__delattr__', '__dict__', '__dir__', '__doc__', '__eq__', '__format__', '__ge__', '__getattribute__', '__gt__', '__hash__', '__init__', '__init_subclass__', '__le__', '__lt__', '__module__', '__ne__', '__new__', '__reduce__', '__reduce_ex__', '__repr__', '__setattr__', '__sizeof__', '__str__', '__subclasshook__', '__weakref__', 'get']\n",
      "3\n"
     ]
    }
   ],
   "source": [
    "class A:\n",
    "    def __init__(self,var):\n",
    "        self.__var = var   # is we mention __ before variable then we are basically defining as private\n",
    "    def get(self):\n",
    "        return self.__var\n",
    "\n",
    "ob = A(3)\n",
    "print(ob.get())\n",
    "print(dir(ob))\n",
    "print(ob._A__var)     # LOL still can access but not recommended "
   ]
  },
  {
   "cell_type": "markdown",
   "metadata": {},
   "source": [
    "For protected variable we simple use single _ varible instid of __ and rest is same\n",
    "\n",
    "after inheritance:\n",
    "\n",
    "    1. protected varible can be accessed normally by just name\n",
    "    \n",
    "    2. private varible are not directly inherited but we can still access them using _<clasname>__<varname>"
   ]
  },
  {
   "cell_type": "code",
   "execution_count": 107,
   "metadata": {},
   "outputs": [
    {
     "name": "stdout",
     "output_type": "stream",
     "text": [
      "['_A__pri', '__class__', '__delattr__', '__dict__', '__dir__', '__doc__', '__eq__', '__format__', '__ge__', '__getattribute__', '__gt__', '__hash__', '__init__', '__init_subclass__', '__le__', '__lt__', '__module__', '__ne__', '__new__', '__reduce__', '__reduce_ex__', '__repr__', '__setattr__', '__sizeof__', '__str__', '__subclasshook__', '__weakref__', '_pro', 'func', 'pub']\n"
     ]
    }
   ],
   "source": [
    "class A:\n",
    "    def __init__(self,pub,pro,pri):\n",
    "        self.pub = pub\n",
    "        self._pro = pro\n",
    "        self.__pri = pri\n",
    "\n",
    "class B(A):\n",
    "    def __init__(self, pub, pro, pri):\n",
    "        super().__init__(pub, pro, pri)\n",
    "    def func(self):\n",
    "        print(self.__pri)\n",
    "\n",
    "ob = B(1,2,3)\n",
    "print(dir(ob))"
   ]
  },
  {
   "cell_type": "markdown",
   "metadata": {},
   "source": [
    "### Abstraction"
   ]
  },
  {
   "cell_type": "code",
   "execution_count": 112,
   "metadata": {},
   "outputs": [
    {
     "name": "stdout",
     "output_type": "stream",
     "text": [
      "bark\n",
      "meow\n"
     ]
    }
   ],
   "source": [
    "from abc import ABC,abstractmethod\n",
    "\n",
    "class Animal(ABC):\n",
    "    @abstractmethod\n",
    "    def sound(self):\n",
    "        pass  # This is an abstract method, no implementation here.\n",
    "\n",
    "class Dog(Animal):\n",
    "    def sound(self):  # overriding ia mandatory\n",
    "        return \"bark\"\n",
    "class Cat(Animal):\n",
    "    def sound(self):\n",
    "        return \"meow\"\n",
    "\n",
    "a1 = Dog()\n",
    "a2 = Cat()\n",
    "\n",
    "print(a1.sound())\n",
    "print(a2.sound())\n",
    "\n",
    "\n"
   ]
  },
  {
   "cell_type": "markdown",
   "metadata": {},
   "source": [
    "### Operator Overloading"
   ]
  },
  {
   "cell_type": "code",
   "execution_count": 116,
   "metadata": {},
   "outputs": [
    {
     "name": "stdout",
     "output_type": "stream",
     "text": [
      "4+6i\n"
     ]
    }
   ],
   "source": [
    "class Complex:\n",
    "    def __init__(self,r,i):\n",
    "        self.r = r\n",
    "        self.i = i\n",
    "    def __add__(self,other):   ##overloading the + operator\n",
    "        return Complex(self.r+other.r,self.i+other.i)\n",
    "    def __sub__(self,other):   ##overloading the - operator\n",
    "        return Complex(self.r-other.r,self.i-other.i)\n",
    "    def __str__(self):      ## overloading the __str__ operator so that when ever we print this class it will show the complex number\n",
    "        return f\"{self.r}+{self.i}i\"\n",
    "c1 = Complex(1,2)\n",
    "c2 = Complex(3,4)\n",
    "\n",
    "print(c1+c2)\n"
   ]
  },
  {
   "cell_type": "code",
   "execution_count": null,
   "metadata": {},
   "outputs": [],
   "source": []
  }
 ],
 "metadata": {
  "kernelspec": {
   "display_name": "venv",
   "language": "python",
   "name": "python3"
  },
  "language_info": {
   "codemirror_mode": {
    "name": "ipython",
    "version": 3
   },
   "file_extension": ".py",
   "mimetype": "text/x-python",
   "name": "python",
   "nbconvert_exporter": "python",
   "pygments_lexer": "ipython3",
   "version": "3.10.16"
  }
 },
 "nbformat": 4,
 "nbformat_minor": 2
}
